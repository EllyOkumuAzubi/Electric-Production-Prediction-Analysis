{
 "cells": [
  {
   "cell_type": "code",
   "execution_count": 1,
   "metadata": {},
   "outputs": [],
   "source": [
    "# import necessary packages \n",
    "import pandas as pd \n",
    "\n",
    "import matplotlib.pyplot as plt \n",
    "import seaborn as sns "
   ]
  },
  {
   "cell_type": "code",
   "execution_count": 7,
   "metadata": {},
   "outputs": [
    {
     "name": "stdout",
     "output_type": "stream",
     "text": [
      "Number of missing values,DATE     0\n",
      "Value    0\n",
      "dtype: int64\n",
      "\n",
      "df shape is, (397, 2) \n",
      "\n",
      "columns in df, Index(['DATE', 'Value'], dtype='object')\n",
      "\n"
     ]
    }
   ],
   "source": [
    "df = pd.read_csv('Electric_Production.csv')\n",
    "\n",
    "print (f\"Number of missing values,{df.isna().sum()}\\n\")\n",
    "print (f\"df shape is, {df.shape} \\n\")\n",
    "print (f\"columns in df, {df.columns}\\n\")\n"
   ]
  },
  {
   "cell_type": "code",
   "execution_count": null,
   "metadata": {},
   "outputs": [],
   "source": []
  }
 ],
 "metadata": {
  "kernelspec": {
   "display_name": "base",
   "language": "python",
   "name": "python3"
  },
  "language_info": {
   "codemirror_mode": {
    "name": "ipython",
    "version": 3
   },
   "file_extension": ".py",
   "mimetype": "text/x-python",
   "name": "python",
   "nbconvert_exporter": "python",
   "pygments_lexer": "ipython3",
   "version": "3.9.13"
  },
  "orig_nbformat": 4
 },
 "nbformat": 4,
 "nbformat_minor": 2
}
